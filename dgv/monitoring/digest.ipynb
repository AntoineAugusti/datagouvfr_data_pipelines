{
    "cells": [
        {
            "cell_type": "markdown",
            "metadata": {},
            "source": [
                "# Modération / stats data.gouv.fr\n",
                "\n",
                "Affiche les derniers objets (datasets, reuses, commentaires, utilisateurs) créés depuis `start_date` (via l'API publique)."
            ]
        },
        {
            "cell_type": "code",
            "execution_count": null,
            "metadata": {},
            "outputs": [],
            "source": [
                "import sys\n",
                "sys.path.append(WORKING_DIR)"
            ]
        },
        {
            "cell_type": "code",
            "execution_count": 1,
            "metadata": {},
            "outputs": [],
            "source": [
                "from IPython.core.display import display, HTML\n",
                "from dag_datagouv_data_pipelines.dgv.monitoring.utils import (\n",
                "    show_datasets,\n",
                "    show_discussions,\n",
                "    show_orgas,\n",
                "    show_reuses,\n",
                "    show_users,\n",
                ")\n",
                "from dateutil.relativedelta import relativedelta\n",
                "from datetime import datetime\n",
                "import json"
            ]
        },
        {
            "cell_type": "code",
            "execution_count": null,
            "metadata": {},
            "outputs": [],
            "source": [
                "start_date = datetime.strptime(DATE_AIRFLOW, '%Y-%m-%d')\n",
                "if(PERIOD_DIGEST == 'daily'):\n",
                "    end_date = start_date + relativedelta(days=1)\n",
                "elif(PERIOD_DIGEST == 'weekly'):\n",
                "    end_date = start_date + relativedelta(days=7)\n",
                "elif(PERIOD_DIGEST == 'monthly'):\n",
                "    end_date = start_date + relativedelta(months=1)"
            ]
        },
        {
            "cell_type": "code",
            "execution_count": 2,
            "metadata": {
                "hide_input": true
            },
            "outputs": [
                {
                    "data": {
                        "text/plain": [
                            "datetime.datetime(2021, 10, 28, 10, 16, 29, 287507)"
                        ]
                    },
                    "execution_count": 2,
                    "metadata": {},
                    "output_type": "execute_result"
                }
            ],
            "source": [
                "DOMAIN = 'www.data.gouv.fr'\n",
                "PAGE_SIZE = 100"
            ]
        },
        {
            "cell_type": "markdown",
            "metadata": {},
            "source": [
                "## Jeux de données"
            ]
        },
        {
            "cell_type": "code",
            "execution_count": 3,
            "metadata": {},
            "outputs": [
                {
                    "data": {
                        "text/html": [
                            "<h3>7 jeux de données créés</h3>"
                        ],
                        "text/plain": [
                            "<IPython.core.display.HTML object>"
                        ]
                    },
                    "metadata": {},
                    "output_type": "display_data"
                },
                {
                    "data": {
                        "text/html": [
                            "<a href=\"https://www.data.gouv.fr/fr/datasets/couche-geographique-des-monuments-historiques/\" target=\"_blank\">Couche géographique des monuments historiques</a> por <a href=\"https://www.data.gouv.fr/fr/users/emmanuel-amador-2/\" target=\"_blank\">Emmanuel Amador</a>"
                        ],
                        "text/plain": [
                            "<IPython.core.display.HTML object>"
                        ]
                    },
                    "metadata": {},
                    "output_type": "display_data"
                },
                {
                    "data": {
                        "text/html": [
                            "<a href=\"https://www.data.gouv.fr/fr/datasets/lycees-candidats-occitanie-dans-mon-assiette-session-2020/\" target=\"_blank\">Lycées candidats OCCITANIE DANS MON ASSIETTE  - SESSION 2020</a> por <a href=\"https://www.data.gouv.fr/fr/organizations/region-occitanie/\" target=\"_blank\">Région Occitanie / Pyrénées Méditerranée</a>"
                        ],
                        "text/plain": [
                            "<IPython.core.display.HTML object>"
                        ]
                    },
                    "metadata": {},
                    "output_type": "display_data"
                },
                {
                    "data": {
                        "text/html": [
                            "<a href=\"https://www.data.gouv.fr/fr/datasets/reporting-loi-lom-7/\" target=\"_blank\">Reporting loi LOM</a> por <a href=\"https://www.data.gouv.fr/fr/organizations/sas-societe-ouest-location/\" target=\"_blank\">SAS SOCIETE OUEST LOCATION</a>"
                        ],
                        "text/plain": [
                            "<IPython.core.display.HTML object>"
                        ]
                    },
                    "metadata": {},
                    "output_type": "display_data"
                },
                {
                    "data": {
                        "text/html": [
                            "<a href=\"https://www.data.gouv.fr/fr/datasets/reporting-loi-lom-6/\" target=\"_blank\">Reporting loi LOM</a> por <a href=\"https://www.data.gouv.fr/fr/organizations/sas-auto-tours/\" target=\"_blank\">SAS AUTO TOURS</a>"
                        ],
                        "text/plain": [
                            "<IPython.core.display.HTML object>"
                        ]
                    },
                    "metadata": {},
                    "output_type": "display_data"
                },
                {
                    "data": {
                        "text/html": [
                            "<a href=\"https://www.data.gouv.fr/fr/datasets/reporting-loi-lom-5/\" target=\"_blank\">Reporting Loi LOM</a> por <a href=\"https://www.data.gouv.fr/fr/organizations/vienne-location-vehicules/\" target=\"_blank\">VIENNE LOCATION VEHICULES</a>"
                        ],
                        "text/plain": [
                            "<IPython.core.display.HTML object>"
                        ]
                    },
                    "metadata": {},
                    "output_type": "display_data"
                },
                {
                    "data": {
                        "text/html": [
                            "<a href=\"https://www.data.gouv.fr/fr/datasets/irve-bump/\" target=\"_blank\">IRVE-BUMP</a> por <a href=\"https://www.data.gouv.fr/fr/organizations/bump/\" target=\"_blank\">Bump</a>"
                        ],
                        "text/plain": [
                            "<IPython.core.display.HTML object>"
                        ]
                    },
                    "metadata": {},
                    "output_type": "display_data"
                },
                {
                    "data": {
                        "text/html": [
                            "<a href=\"https://www.data.gouv.fr/fr/datasets/listes-des-centres-de-formation-dapprentis-adresse-nombre-deleves-taux-dinsertion-taux-de-rupture-par-specialite/\" target=\"_blank\">Listes des centres de formation d'apprentis  (adresse, nombre d'élèves, taux d'insertion, taux de rupture par spécialité)</a> por <a href=\"https://www.data.gouv.fr/fr/organizations/direction-de-lanimation-de-la-recherche-des-etudes-et-des-statistiques/\" target=\"_blank\">Direction de l’animation de la recherche, des études et des statistiques</a>"
                        ],
                        "text/plain": [
                            "<IPython.core.display.HTML object>"
                        ]
                    },
                    "metadata": {},
                    "output_type": "display_data"
                }
            ],
            "source": [
                "nb_datasets, datasets = show_datasets(start_date, end_date)"
            ]
        },
        {
            "cell_type": "markdown",
            "metadata": {},
            "source": [
                "## Organisations"
            ]
        },
        {
            "cell_type": "code",
            "execution_count": null,
            "metadata": {},
            "outputs": [],
            "source": [
                "nb_orgas, orgas = show_orgas(start_date, end_date)"
            ]
        },
        {
            "cell_type": "markdown",
            "metadata": {},
            "source": [
                "## Réutilisations"
            ]
        },
        {
            "cell_type": "code",
            "execution_count": null,
            "metadata": {},
            "outputs": [],
            "source": [
                "nb_reuses, reuses = show_reuses(start_date, end_date)"
            ]
        },
        {
            "cell_type": "markdown",
            "metadata": {},
            "source": [
                "## Discussions"
            ]
        },
        {
            "cell_type": "code",
            "execution_count": null,
            "metadata": {},
            "outputs": [],
            "source": [
                "nb_discussions, discussions = show_discussions(start_date, end_date)"
            ]
        },
        {
            "cell_type": "markdown",
            "metadata": {},
            "source": [
                "## Utilisateurs"
            ]
        },
        {
            "cell_type": "code",
            "execution_count": null,
            "metadata": {},
            "outputs": [],
            "source": [
                "nb_users, users = show_users(start_date, end_date)"
            ]
        },
        {
            "cell_type": "code",
            "execution_count": null,
            "metadata": {},
            "outputs": [],
            "source": [
                "output = {}\n",
                "output['datasets'] = datasets\n",
                "output['orgas'] = orgas\n",
                "output['reuses'] = reuses\n",
                "output['discussions'] = discussions\n",
                "output['users'] = users\n",
                "result = {}\n",
                "result['nb_datasets'] = nb_datasets\n",
                "result['nb_orgas'] = nb_orgas\n",
                "result['nb_reuses'] = nb_reuses\n",
                "result['nb_discussions'] = nb_discussions\n",
                "result['nb_users'] = nb_users\n",
                "output['stats'] = result\n",
                "with open(OUTPUT_DATA_FOLDER+'stats.json', 'w') as outfile:\n",
                "    json.dump(output, outfile)"
            ]
        }
    ],
    "metadata": {
        "celltoolbar": "Format de la Cellule Texte Brut",
        "gist": {
            "data": {
                "description": "moderation.ipynb",
                "public": true
            },
            "id": ""
        },
        "hide_input": true,
        "kernelspec": {
            "display_name": "airflow",
            "language": "python",
            "name": "python3"
        },
        "language_info": {
            "codemirror_mode": {
                "name": "ipython",
                "version": 3
            },
            "file_extension": ".py",
            "mimetype": "text/x-python",
            "name": "python",
            "nbconvert_exporter": "python",
            "pygments_lexer": "ipython3",
            "version": "3.10.3"
        },
        "vscode": {
            "interpreter": {
                "hash": "97a2da382d248fff648af7f5651ffebfa1241b000458c068d93c121b6fe556f4"
            }
        }
    },
    "nbformat": 4,
    "nbformat_minor": 2
}
