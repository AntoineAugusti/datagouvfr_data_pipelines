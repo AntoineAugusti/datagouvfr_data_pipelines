{
 "cells": [
  {
   "cell_type": "code",
   "execution_count": 13,
   "metadata": {},
   "outputs": [],
   "source": [
    "from pathlib import Path\n",
    "import json\n",
    "import sys\n",
    "import logging\n",
    "import yaml\n",
    "import requests\n",
    "import jsonschema"
   ]
  },
  {
   "cell_type": "code",
   "execution_count": 14,
   "metadata": {},
   "outputs": [],
   "source": [
    "logger = logging.getLogger(__name__)"
   ]
  },
  {
   "cell_type": "code",
   "execution_count": 15,
   "metadata": {},
   "outputs": [],
   "source": [
    "DATA_GOUV_API = \"https://www.data.gouv.fr/api/1\"\n",
    "RECOMMENDATION_SCORE = 50\n",
    "CATALOG_SCHEMAS = 'https://schema.data.gouv.fr/schemas/schemas.json'\n",
    "JSONSCHEMA_URL = \"https://raw.githubusercontent.com/opendatateam/udata-recommendations/master/udata_recommendations/schema.json\""
   ]
  },
  {
   "cell_type": "code",
   "execution_count": 16,
   "metadata": {},
   "outputs": [],
   "source": [
    "def consolidated_schemas():\n",
    "    \"\"\"Find TableSchema schemas that are consolidated\"\"\"\n",
    "    r = requests.get(CATALOG_SCHEMAS)\n",
    "    schemas = r.json()['schemas']\n",
    "    return { \n",
    "        s['name']: s['consolidation_dataset_id'] \n",
    "        for s in schemas \n",
    "        if s['consolidation_dataset_id'] and s['schema_type'] == 'tableschema'\n",
    "    }"
   ]
  },
  {
   "cell_type": "code",
   "execution_count": 17,
   "metadata": {},
   "outputs": [],
   "source": [
    "def datasets_for_schema(schema):\n",
    "    \"\"\"Fetch datasets on datagouv with the schema attribute set to a specific value\"\"\"\n",
    "    ids = []\n",
    "    url = f\"{DATA_GOUV_API}/datasets?schema={schema}&page_size=100\"\n",
    "    while True:\n",
    "        response = requests.get(url, timeout=10)\n",
    "        response.raise_for_status()\n",
    "        data = response.json()\n",
    "\n",
    "        ids.extend([d[\"id\"] for d in data[\"data\"]])\n",
    "        if data[\"next_page\"] is None:\n",
    "            break\n",
    "        url = data[\"next_page\"]\n",
    "\n",
    "    return ids"
   ]
  },
  {
   "cell_type": "code",
   "execution_count": 18,
   "metadata": {},
   "outputs": [],
   "source": [
    "def build_recommendation(consolidated_dataset_id, dataset_id):\n",
    "    return {\n",
    "        \"id\": dataset_id,\n",
    "        \"recommendations\": [\n",
    "            {\"id\": consolidated_dataset_id, \"score\": RECOMMENDATION_SCORE}\n",
    "        ],\n",
    "    }"
   ]
  },
  {
   "cell_type": "code",
   "execution_count": 19,
   "metadata": {},
   "outputs": [],
   "source": [
    "def validate_recommendations(recommendations):\n",
    "    \"\"\"\" Validate recommendations according to the JSON schema\"\"\"\n",
    "    r = requests.get(JSONSCHEMA_URL, timeout=10)\n",
    "    r.raise_for_status()\n",
    "    schema = r.json()\n",
    "\n",
    "    jsonschema.validate(recommendations, schema=schema)"
   ]
  },
  {
   "cell_type": "code",
   "execution_count": 20,
   "metadata": {},
   "outputs": [
    {
     "name": "stdout",
     "output_type": "stream",
     "text": [
      "etalab/schema-irve\n",
      "etalab/schema-lieux-covoiturage\n",
      "etalab/schema-stationnement\n"
     ]
    }
   ],
   "source": [
    "recommendations = []\n",
    "for schema_id, schema_details in consolidated_schemas().items():\n",
    "    consolidated_dataset_id = schema_details\n",
    "    logger.info(\n",
    "        f\"Working on schema {schema_id}, consolidated on {consolidated_dataset_id}\"\n",
    "    )\n",
    "\n",
    "    dataset_ids = datasets_for_schema(schema_id)\n",
    "    logger.info(f\"Found {len(dataset_ids)} associated with schema {schema_id}\")\n",
    "\n",
    "    recommendations.extend([\n",
    "        build_recommendation(consolidated_dataset_id, d) for d in dataset_ids\n",
    "    ])\n",
    "\n",
    "ids = []\n",
    "recommendations_clean = []\n",
    "for r in recommendations:\n",
    "    if r[\"id\"] not in ids:\n",
    "        ids.append(r[\"id\"])\n",
    "        recommendations_clean.append(r)\n",
    "validate_recommendations(recommendations_clean)"
   ]
  },
  {
   "cell_type": "code",
   "execution_count": null,
   "metadata": {},
   "outputs": [],
   "source": [
    "with open(TMP_FOLDER + '/recommendations.json', 'w') as fp:\n",
    "    json.dump(recommendations, fp, indent=2)"
   ]
  }
 ],
 "metadata": {
  "interpreter": {
   "hash": "19ece5f74f8baf7d074e990d308e7c75b7ac8b98c7c6e76faedd0c3526d006f2"
  },
  "kernelspec": {
   "display_name": "Python 3.8.12 64-bit ('analytics': pyenv)",
   "name": "python3"
  },
  "language_info": {
   "codemirror_mode": {
    "name": "ipython",
    "version": 3
   },
   "file_extension": ".py",
   "mimetype": "text/x-python",
   "name": "python",
   "nbconvert_exporter": "python",
   "pygments_lexer": "ipython3",
   "version": "3.8.12"
  },
  "orig_nbformat": 4
 },
 "nbformat": 4,
 "nbformat_minor": 2
}
